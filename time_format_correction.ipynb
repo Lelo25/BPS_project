{
 "cells": [
  {
   "cell_type": "code",
   "execution_count": null,
   "metadata": {},
   "outputs": [],
   "source": [
    "import csv\n",
    "\n",
    "# path of the CSV file\n",
    "csv_file_path = 'csv_file.csv'\n",
    "\n",
    "# Read the CSV file and update timestamps in the 'start_time' and 'end_time' columns\n",
    "with open(csv_file_path, 'r', newline='') as csvfile:\n",
    "    reader = csv.reader(csvfile)\n",
    "    rows = list(reader)  \n",
    "\n",
    "# Update timestamps in the 'start_time' and 'end_time' columns\n",
    "for row in rows:\n",
    "    # Split the 'start_time' value into date and time components\n",
    "    start_time_parts = row[1].split('.')\n",
    "    if len(start_time_parts) == 1:  # If there's no milliseconds part\n",
    "        row[1] += '.000'\n",
    "    elif len(start_time_parts[1]) != 3:  # If milliseconds part doesn't have exactly 3 digits\n",
    "        row[1] = start_time_parts[0] + '.' + start_time_parts[1].ljust(3, '0')  # Add or pad milliseconds\n",
    "\n",
    "    # Split the 'end_time' value into date and time components\n",
    "    end_time_parts = row[2].split('.')\n",
    "    if len(end_time_parts) == 1:  # If there's no milliseconds part\n",
    "        row[2] += '.000'\n",
    "    elif len(end_time_parts[1]) != 3:  # If milliseconds part doesn't have exactly 3 digits\n",
    "        row[2] = end_time_parts[0] + '.' + end_time_parts[1].ljust(3, '0')  # Add or pad milliseconds\n",
    "\n",
    "# Write the modified rows back to the CSV file\n",
    "with open(csv_file_path, 'w', newline='') as csvfile:\n",
    "    writer = csv.writer(csvfile)\n",
    "    writer.writerows(rows)\n"
   ]
  }
 ],
 "metadata": {
  "language_info": {
   "name": "python"
  }
 },
 "nbformat": 4,
 "nbformat_minor": 2
}
